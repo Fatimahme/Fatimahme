{
  "cells": [
    {
      "cell_type": "code",
      "execution_count": 4,
      "metadata": {
        "colab": {
          "base_uri": "https://localhost:8080/"
        },
        "id": "pmKHXVzxICJp",
        "outputId": "36929995-75e7-477d-fa76-788e1c912ebb"
      },
      "outputs": [
        {
          "name": "stdout",
          "output_type": "stream",
          "text": [
            "Requirement already satisfied: langchain in /usr/local/lib/python3.11/dist-packages (0.3.20)\n",
            "Requirement already satisfied: langchain-huggingface in /usr/local/lib/python3.11/dist-packages (0.1.2)\n",
            "Requirement already satisfied: langchain_community in /usr/local/lib/python3.11/dist-packages (0.3.19)\n",
            "Requirement already satisfied: faiss-cpu in /usr/local/lib/python3.11/dist-packages (1.10.0)\n",
            "Requirement already satisfied: langchain-core<1.0.0,>=0.3.41 in /usr/local/lib/python3.11/dist-packages (from langchain) (0.3.41)\n",
            "Requirement already satisfied: langchain-text-splitters<1.0.0,>=0.3.6 in /usr/local/lib/python3.11/dist-packages (from langchain) (0.3.6)\n",
            "Requirement already satisfied: langsmith<0.4,>=0.1.17 in /usr/local/lib/python3.11/dist-packages (from langchain) (0.3.11)\n",
            "Requirement already satisfied: pydantic<3.0.0,>=2.7.4 in /usr/local/lib/python3.11/dist-packages (from langchain) (2.10.6)\n",
            "Requirement already satisfied: SQLAlchemy<3,>=1.4 in /usr/local/lib/python3.11/dist-packages (from langchain) (2.0.38)\n",
            "Requirement already satisfied: requests<3,>=2 in /usr/local/lib/python3.11/dist-packages (from langchain) (2.32.3)\n",
            "Requirement already satisfied: PyYAML>=5.3 in /usr/local/lib/python3.11/dist-packages (from langchain) (6.0.2)\n",
            "Requirement already satisfied: huggingface-hub>=0.23.0 in /usr/local/lib/python3.11/dist-packages (from langchain-huggingface) (0.28.1)\n",
            "Requirement already satisfied: sentence-transformers>=2.6.0 in /usr/local/lib/python3.11/dist-packages (from langchain-huggingface) (3.4.1)\n",
            "Requirement already satisfied: tokenizers>=0.19.1 in /usr/local/lib/python3.11/dist-packages (from langchain-huggingface) (0.21.0)\n",
            "Requirement already satisfied: transformers>=4.39.0 in /usr/local/lib/python3.11/dist-packages (from langchain-huggingface) (4.48.3)\n",
            "Requirement already satisfied: aiohttp<4.0.0,>=3.8.3 in /usr/local/lib/python3.11/dist-packages (from langchain_community) (3.11.13)\n",
            "Requirement already satisfied: tenacity!=8.4.0,<10,>=8.1.0 in /usr/local/lib/python3.11/dist-packages (from langchain_community) (9.0.0)\n",
            "Requirement already satisfied: dataclasses-json<0.7,>=0.5.7 in /usr/local/lib/python3.11/dist-packages (from langchain_community) (0.6.7)\n",
            "Requirement already satisfied: pydantic-settings<3.0.0,>=2.4.0 in /usr/local/lib/python3.11/dist-packages (from langchain_community) (2.8.1)\n",
            "Requirement already satisfied: httpx-sse<1.0.0,>=0.4.0 in /usr/local/lib/python3.11/dist-packages (from langchain_community) (0.4.0)\n",
            "Requirement already satisfied: numpy<3,>=1.26.2 in /usr/local/lib/python3.11/dist-packages (from langchain_community) (1.26.4)\n",
            "Requirement already satisfied: packaging in /usr/local/lib/python3.11/dist-packages (from faiss-cpu) (24.2)\n",
            "Requirement already satisfied: aiohappyeyeballs>=2.3.0 in /usr/local/lib/python3.11/dist-packages (from aiohttp<4.0.0,>=3.8.3->langchain_community) (2.4.6)\n",
            "Requirement already satisfied: aiosignal>=1.1.2 in /usr/local/lib/python3.11/dist-packages (from aiohttp<4.0.0,>=3.8.3->langchain_community) (1.3.2)\n",
            "Requirement already satisfied: attrs>=17.3.0 in /usr/local/lib/python3.11/dist-packages (from aiohttp<4.0.0,>=3.8.3->langchain_community) (25.1.0)\n",
            "Requirement already satisfied: frozenlist>=1.1.1 in /usr/local/lib/python3.11/dist-packages (from aiohttp<4.0.0,>=3.8.3->langchain_community) (1.5.0)\n",
            "Requirement already satisfied: multidict<7.0,>=4.5 in /usr/local/lib/python3.11/dist-packages (from aiohttp<4.0.0,>=3.8.3->langchain_community) (6.1.0)\n",
            "Requirement already satisfied: propcache>=0.2.0 in /usr/local/lib/python3.11/dist-packages (from aiohttp<4.0.0,>=3.8.3->langchain_community) (0.3.0)\n",
            "Requirement already satisfied: yarl<2.0,>=1.17.0 in /usr/local/lib/python3.11/dist-packages (from aiohttp<4.0.0,>=3.8.3->langchain_community) (1.18.3)\n",
            "Requirement already satisfied: marshmallow<4.0.0,>=3.18.0 in /usr/local/lib/python3.11/dist-packages (from dataclasses-json<0.7,>=0.5.7->langchain_community) (3.26.1)\n",
            "Requirement already satisfied: typing-inspect<1,>=0.4.0 in /usr/local/lib/python3.11/dist-packages (from dataclasses-json<0.7,>=0.5.7->langchain_community) (0.9.0)\n",
            "Requirement already satisfied: filelock in /usr/local/lib/python3.11/dist-packages (from huggingface-hub>=0.23.0->langchain-huggingface) (3.17.0)\n",
            "Requirement already satisfied: fsspec>=2023.5.0 in /usr/local/lib/python3.11/dist-packages (from huggingface-hub>=0.23.0->langchain-huggingface) (2024.10.0)\n",
            "Requirement already satisfied: tqdm>=4.42.1 in /usr/local/lib/python3.11/dist-packages (from huggingface-hub>=0.23.0->langchain-huggingface) (4.67.1)\n",
            "Requirement already satisfied: typing-extensions>=3.7.4.3 in /usr/local/lib/python3.11/dist-packages (from huggingface-hub>=0.23.0->langchain-huggingface) (4.12.2)\n",
            "Requirement already satisfied: jsonpatch<2.0,>=1.33 in /usr/local/lib/python3.11/dist-packages (from langchain-core<1.0.0,>=0.3.41->langchain) (1.33)\n",
            "Requirement already satisfied: httpx<1,>=0.23.0 in /usr/local/lib/python3.11/dist-packages (from langsmith<0.4,>=0.1.17->langchain) (0.28.1)\n",
            "Requirement already satisfied: orjson<4.0.0,>=3.9.14 in /usr/local/lib/python3.11/dist-packages (from langsmith<0.4,>=0.1.17->langchain) (3.10.15)\n",
            "Requirement already satisfied: requests-toolbelt<2.0.0,>=1.0.0 in /usr/local/lib/python3.11/dist-packages (from langsmith<0.4,>=0.1.17->langchain) (1.0.0)\n",
            "Requirement already satisfied: zstandard<0.24.0,>=0.23.0 in /usr/local/lib/python3.11/dist-packages (from langsmith<0.4,>=0.1.17->langchain) (0.23.0)\n",
            "Requirement already satisfied: annotated-types>=0.6.0 in /usr/local/lib/python3.11/dist-packages (from pydantic<3.0.0,>=2.7.4->langchain) (0.7.0)\n",
            "Requirement already satisfied: pydantic-core==2.27.2 in /usr/local/lib/python3.11/dist-packages (from pydantic<3.0.0,>=2.7.4->langchain) (2.27.2)\n",
            "Requirement already satisfied: python-dotenv>=0.21.0 in /usr/local/lib/python3.11/dist-packages (from pydantic-settings<3.0.0,>=2.4.0->langchain_community) (1.0.1)\n",
            "Requirement already satisfied: charset-normalizer<4,>=2 in /usr/local/lib/python3.11/dist-packages (from requests<3,>=2->langchain) (3.4.1)\n",
            "Requirement already satisfied: idna<4,>=2.5 in /usr/local/lib/python3.11/dist-packages (from requests<3,>=2->langchain) (3.10)\n",
            "Requirement already satisfied: urllib3<3,>=1.21.1 in /usr/local/lib/python3.11/dist-packages (from requests<3,>=2->langchain) (2.3.0)\n",
            "Requirement already satisfied: certifi>=2017.4.17 in /usr/local/lib/python3.11/dist-packages (from requests<3,>=2->langchain) (2025.1.31)\n",
            "Requirement already satisfied: torch>=1.11.0 in /usr/local/lib/python3.11/dist-packages (from sentence-transformers>=2.6.0->langchain-huggingface) (2.5.1+cu124)\n",
            "Requirement already satisfied: scikit-learn in /usr/local/lib/python3.11/dist-packages (from sentence-transformers>=2.6.0->langchain-huggingface) (1.6.1)\n",
            "Requirement already satisfied: scipy in /usr/local/lib/python3.11/dist-packages (from sentence-transformers>=2.6.0->langchain-huggingface) (1.13.1)\n",
            "Requirement already satisfied: Pillow in /usr/local/lib/python3.11/dist-packages (from sentence-transformers>=2.6.0->langchain-huggingface) (11.1.0)\n",
            "Requirement already satisfied: greenlet!=0.4.17 in /usr/local/lib/python3.11/dist-packages (from SQLAlchemy<3,>=1.4->langchain) (3.1.1)\n",
            "Requirement already satisfied: regex!=2019.12.17 in /usr/local/lib/python3.11/dist-packages (from transformers>=4.39.0->langchain-huggingface) (2024.11.6)\n",
            "Requirement already satisfied: safetensors>=0.4.1 in /usr/local/lib/python3.11/dist-packages (from transformers>=4.39.0->langchain-huggingface) (0.5.3)\n",
            "Requirement already satisfied: anyio in /usr/local/lib/python3.11/dist-packages (from httpx<1,>=0.23.0->langsmith<0.4,>=0.1.17->langchain) (3.7.1)\n",
            "Requirement already satisfied: httpcore==1.* in /usr/local/lib/python3.11/dist-packages (from httpx<1,>=0.23.0->langsmith<0.4,>=0.1.17->langchain) (1.0.7)\n",
            "Requirement already satisfied: h11<0.15,>=0.13 in /usr/local/lib/python3.11/dist-packages (from httpcore==1.*->httpx<1,>=0.23.0->langsmith<0.4,>=0.1.17->langchain) (0.14.0)\n",
            "Requirement already satisfied: jsonpointer>=1.9 in /usr/local/lib/python3.11/dist-packages (from jsonpatch<2.0,>=1.33->langchain-core<1.0.0,>=0.3.41->langchain) (3.0.0)\n",
            "Requirement already satisfied: networkx in /usr/local/lib/python3.11/dist-packages (from torch>=1.11.0->sentence-transformers>=2.6.0->langchain-huggingface) (3.4.2)\n",
            "Requirement already satisfied: jinja2 in /usr/local/lib/python3.11/dist-packages (from torch>=1.11.0->sentence-transformers>=2.6.0->langchain-huggingface) (3.1.5)\n",
            "Requirement already satisfied: nvidia-cuda-nvrtc-cu12==12.4.127 in /usr/local/lib/python3.11/dist-packages (from torch>=1.11.0->sentence-transformers>=2.6.0->langchain-huggingface) (12.4.127)\n",
            "Requirement already satisfied: nvidia-cuda-runtime-cu12==12.4.127 in /usr/local/lib/python3.11/dist-packages (from torch>=1.11.0->sentence-transformers>=2.6.0->langchain-huggingface) (12.4.127)\n",
            "Requirement already satisfied: nvidia-cuda-cupti-cu12==12.4.127 in /usr/local/lib/python3.11/dist-packages (from torch>=1.11.0->sentence-transformers>=2.6.0->langchain-huggingface) (12.4.127)\n",
            "Requirement already satisfied: nvidia-cudnn-cu12==9.1.0.70 in /usr/local/lib/python3.11/dist-packages (from torch>=1.11.0->sentence-transformers>=2.6.0->langchain-huggingface) (9.1.0.70)\n",
            "Requirement already satisfied: nvidia-cublas-cu12==12.4.5.8 in /usr/local/lib/python3.11/dist-packages (from torch>=1.11.0->sentence-transformers>=2.6.0->langchain-huggingface) (12.4.5.8)\n",
            "Requirement already satisfied: nvidia-cufft-cu12==11.2.1.3 in /usr/local/lib/python3.11/dist-packages (from torch>=1.11.0->sentence-transformers>=2.6.0->langchain-huggingface) (11.2.1.3)\n",
            "Requirement already satisfied: nvidia-curand-cu12==10.3.5.147 in /usr/local/lib/python3.11/dist-packages (from torch>=1.11.0->sentence-transformers>=2.6.0->langchain-huggingface) (10.3.5.147)\n",
            "Requirement already satisfied: nvidia-cusolver-cu12==11.6.1.9 in /usr/local/lib/python3.11/dist-packages (from torch>=1.11.0->sentence-transformers>=2.6.0->langchain-huggingface) (11.6.1.9)\n",
            "Requirement already satisfied: nvidia-cusparse-cu12==12.3.1.170 in /usr/local/lib/python3.11/dist-packages (from torch>=1.11.0->sentence-transformers>=2.6.0->langchain-huggingface) (12.3.1.170)\n",
            "Requirement already satisfied: nvidia-nccl-cu12==2.21.5 in /usr/local/lib/python3.11/dist-packages (from torch>=1.11.0->sentence-transformers>=2.6.0->langchain-huggingface) (2.21.5)\n",
            "Requirement already satisfied: nvidia-nvtx-cu12==12.4.127 in /usr/local/lib/python3.11/dist-packages (from torch>=1.11.0->sentence-transformers>=2.6.0->langchain-huggingface) (12.4.127)\n",
            "Requirement already satisfied: nvidia-nvjitlink-cu12==12.4.127 in /usr/local/lib/python3.11/dist-packages (from torch>=1.11.0->sentence-transformers>=2.6.0->langchain-huggingface) (12.4.127)\n",
            "Requirement already satisfied: triton==3.1.0 in /usr/local/lib/python3.11/dist-packages (from torch>=1.11.0->sentence-transformers>=2.6.0->langchain-huggingface) (3.1.0)\n",
            "Requirement already satisfied: sympy==1.13.1 in /usr/local/lib/python3.11/dist-packages (from torch>=1.11.0->sentence-transformers>=2.6.0->langchain-huggingface) (1.13.1)\n",
            "Requirement already satisfied: mpmath<1.4,>=1.1.0 in /usr/local/lib/python3.11/dist-packages (from sympy==1.13.1->torch>=1.11.0->sentence-transformers>=2.6.0->langchain-huggingface) (1.3.0)\n",
            "Requirement already satisfied: mypy-extensions>=0.3.0 in /usr/local/lib/python3.11/dist-packages (from typing-inspect<1,>=0.4.0->dataclasses-json<0.7,>=0.5.7->langchain_community) (1.0.0)\n",
            "Requirement already satisfied: joblib>=1.2.0 in /usr/local/lib/python3.11/dist-packages (from scikit-learn->sentence-transformers>=2.6.0->langchain-huggingface) (1.4.2)\n",
            "Requirement already satisfied: threadpoolctl>=3.1.0 in /usr/local/lib/python3.11/dist-packages (from scikit-learn->sentence-transformers>=2.6.0->langchain-huggingface) (3.5.0)\n",
            "Requirement already satisfied: sniffio>=1.1 in /usr/local/lib/python3.11/dist-packages (from anyio->httpx<1,>=0.23.0->langsmith<0.4,>=0.1.17->langchain) (1.3.1)\n",
            "Requirement already satisfied: MarkupSafe>=2.0 in /usr/local/lib/python3.11/dist-packages (from jinja2->torch>=1.11.0->sentence-transformers>=2.6.0->langchain-huggingface) (3.0.2)\n"
          ]
        }
      ],
      "source": [
        "!pip install langchain langchain-huggingface langchain_community faiss-cpu"
      ]
    },
    {
      "cell_type": "code",
      "execution_count": 9,
      "metadata": {
        "colab": {
          "base_uri": "https://localhost:8080/"
        },
        "id": "Jr36Hgl8IToF",
        "outputId": "a45731bc-bb82-4a29-94b8-14e9c8a7e2d2"
      },
      "outputs": [
        {
          "name": "stderr",
          "output_type": "stream",
          "text": [
            "WARNING:sentence_transformers.SentenceTransformer:No sentence-transformers model found with name HooshvareLab/bert-base-parsbert-uncased. Creating a new one with mean pooling.\n"
          ]
        }
      ],
      "source": [
        "from langchain_huggingface.embeddings import HuggingFaceEmbeddings\n",
        "model_name = \"HooshvareLab/bert-base-parsbert-uncased\"\n",
        "model_kwargs = {'device': 'cpu'}\n",
        "encode_kwargs = {'normalize_embeddings': False}\n",
        "hf_embedding = HuggingFaceEmbeddings(\n",
        "model_name=model_name,\n",
        "model_kwargs=model_kwargs,\n",
        "encode_kwargs=encode_kwargs\n",
        ")"
      ]
    },
    {
      "cell_type": "code",
      "execution_count": 10,
      "metadata": {
        "colab": {
          "base_uri": "https://localhost:8080/"
        },
        "id": "ppX9LY0sI7vr",
        "outputId": "286803ab-0dd1-4fe2-f042-99fb40f9c8a7"
      },
      "outputs": [
        {
          "name": "stdout",
          "output_type": "stream",
          "text": [
            "768\n"
          ]
        }
      ],
      "source": [
        "text = \"همه ی افراد می توانند از امکانات هوش مصنوعی استفاده کنند\"\n",
        "embed = hf_embedding.embed_query(text)\n",
        "print(len(embed))\n"
      ]
    },
    {
      "cell_type": "code",
      "execution_count": 10,
      "metadata": {
        "colab": {
          "base_uri": "https://localhost:8080/"
        },
        "id": "VQWhCliOK8vK",
        "outputId": "fd2681af-960b-432f-b0fc-dc2b7706e295"
      },
      "outputs": [
        {
          "name": "stdout",
          "output_type": "stream",
          "text": [
            "FAISS Vectorstore ساخته شد و ذخیره شد.\n",
            "Matched Text: در مهندسی پزشکی، هوش مصنوعی در طراحی دستگاه‌های پیشرفته پزشکی و همچنین تحلیل داده‌های کلینیکی نقش اساسی ایفا می‌کند. این فناوری به توسعه تکنولوژی‌هایی مانند پروتزهای هوشمند، دستگاه‌های تصویربرداری پزشکی (مانند MRI و CT Scan)، و سیستم‌های تشخیص بیماری کمک کرده است. الگوریتم‌های پیشرفته هوش مصنوعی می‌توانند داده‌های مربوط به بدن انسان را با دقت بالا تحلیل کرده و به پزشکان در تصمیم‌گیری بهتر کمک کنند. علاوه بر این، ربات‌های جراحی مبتنی بر هوش مصنوعی اکنون در بسیاری از بیمارستان‌ها به‌کار گرفته\n",
            "Matched Text: هوش مصنوعی یکی از بزرگ‌ترین دستاوردهای فناوری در دهه‌های اخیر است که تأثیرات قابل‌توجهی در جنبه‌های مختلف زندگی بشر داشته است. این فناوری با استفاده از روش‌هایی مانند یادگیری عمیق و شبکه‌های عصبی مصنوعی قادر است تا وظایف پیچیده‌ای مانند تحلیل داده، تشخیص تصویر، پردازش زبان طبیعی و حتی تصمیم‌گیری را انجام دهد. در صنعت پزشکی، هوش مصنوعی نقشی اساسی در تشخیص بیماری‌ها، پیش‌بینی روند درمان و حتی توسعه داروهای جدید ایفا می‌کند. سیستم‌های مبتنی بر یادگیری ماشینی قادرند با تحلیل داده‌های بیماران،\n",
            "Matched Text: یادگیری ماشینی قادرند با تحلیل داده‌های بیماران، تشخیص‌های سریع‌تر و دقیق‌تری ارائه دهند که به افزایش کیفیت خدمات درمانی منجر می‌شود.\n"
          ]
        }
      ],
      "source": [
        "from langchain_huggingface.embeddings import HuggingFaceEmbeddings\n",
        "from langchain.vectorstores import FAISS\n",
        "from langchain.docstore.document import Document\n",
        "from langchain.text_splitter import RecursiveCharacterTextSplitter\n",
        "# چون نتونستم مدل HooshvareLab/bert-base-parsbert-uncased رو نصب کنم به جاش از یه مدل دیگه استفاده می کنم\n",
        "# نصب مدل heydariAI/persian-embeddings برای embeddings\n",
        "model_name = \"heydariAI/persian-embeddings\"\n",
        "hf_embeddings = HuggingFaceEmbeddings(model_name=model_name)\n",
        "\n",
        "# متن نمونه\n",
        "text = \"\"\"\n",
        "هوش مصنوعی یکی از بزرگ‌ترین دستاوردهای فناوری در دهه‌های اخیر است که تأثیرات قابل‌توجهی در جنبه‌های مختلف زندگی بشر داشته است. این فناوری با استفاده از روش‌هایی مانند یادگیری عمیق و شبکه‌های عصبی مصنوعی قادر است تا وظایف پیچیده‌ای مانند تحلیل داده، تشخیص تصویر، پردازش زبان طبیعی و حتی تصمیم‌گیری را انجام دهد. در صنعت پزشکی، هوش مصنوعی نقشی اساسی در تشخیص بیماری‌ها، پیش‌بینی روند درمان و حتی توسعه داروهای جدید ایفا می‌کند. سیستم‌های مبتنی بر یادگیری ماشینی قادرند با تحلیل داده‌های بیماران، تشخیص‌های سریع‌تر و دقیق‌تری ارائه دهند که به افزایش کیفیت خدمات درمانی منجر می‌شود.\n",
        "\n",
        "در صنعت خودروسازی، هوش مصنوعی تکنولوژی خودروهای خودران را ممکن ساخته است. این خودروها با استفاده از سنسورها، دوربین‌ها و الگوریتم‌های پیشرفته می‌توانند بدون نیاز به راننده در جاده حرکت کنند. علاوه بر این، استفاده از هوش مصنوعی در خطوط تولید کارخانه‌ها باعث افزایش بهره‌وری و کاهش خطاهای انسانی شده است.\n",
        "\n",
        "در زمینه آموزش، هوش مصنوعی نقش پررنگی در سفارشی‌سازی فرآیند یادگیری برای دانش‌آموزان دارد. سیستم‌های آموزشی مبتنی بر هوش مصنوعی می‌توانند محتوا و روش تدریس را بر اساس نیازها و توانایی‌های هر دانش‌آموز تنظیم کنند. این موضوع باعث افزایش اثربخشی آموزش و انگیزه بیشتر در یادگیری می‌شود.\n",
        "\n",
        "علاوه بر این‌ها، کاربردهای هوش مصنوعی در حوزه‌هایی مانند کشاورزی، مالی، امنیت سایبری و حتی سرگرمی نیز رشد چشمگیری داشته است. در کشاورزی، فناوری‌های هوشمند می‌توانند به تحلیل شرایط خاک و پیش‌بینی آب و هوا کمک کرده و بهره‌وری کشاورزان را افزایش دهند. در دنیای مالی، الگوریتم‌های مبتنی بر یادگیری ماشین به تحلیل بازارهای مالی، پیش‌بینی نوسانات بازار و شناسایی رفتارهای مشکوک در تراکنش‌های مالی می‌پردازند.\n",
        "\n",
        "هوش مصنوعی همچنین وارد دنیای هنر و موسیقی شده است. از طراحی گرافیکی و تولید آثار هنری دیجیتال گرفته تا ساخت موسیقی با استفاده از الگوریتم‌های پیشرفته، این فناوری انقلابی در خلاقیت هنری به وجود آورده است. نرم‌افزارهای مبتنی بر هوش مصنوعی می‌توانند موسیقی‌های سفارشی براساس سبک و سلیقه کاربران تولید کنند و حتی در تحلیل قطعات موسیقی کلاسیک به موزیسین‌ها کمک کنند. در زمینه هنرهای بصری، استفاده از شبکه‌های مولد عمیق (GANs) به هنرمندان امکان می‌دهد تا تصاویر و نقاشی‌های بی‌نظیری خلق کنند.\n",
        "\n",
        "در حوزه مهندسی، هوش مصنوعی توانسته است فرایندهای طراحی، شبیه‌سازی و تولید را متحول کند. از طراحی سازه‌های پیچیده گرفته تا تحلیل داده‌های مربوط به عملکرد ماشین‌آلات صنعتی، این فناوری نقش مؤثری در کاهش هزینه‌ها و افزایش دقت دارد. همچنین، در مهندسی نرم‌افزار، استفاده از مدل‌های یادگیری ماشینی در تشخیص و رفع خطاهای کد، توسعه برنامه‌ها را سریع‌تر و کارآمدتر کرده است.\n",
        "\n",
        "در مهندسی پزشکی، هوش مصنوعی در طراحی دستگاه‌های پیشرفته پزشکی و همچنین تحلیل داده‌های کلینیکی نقش اساسی ایفا می‌کند. این فناوری به توسعه تکنولوژی‌هایی مانند پروتزهای هوشمند، دستگاه‌های تصویربرداری پزشکی (مانند MRI و CT Scan)، و سیستم‌های تشخیص بیماری کمک کرده است. الگوریتم‌های پیشرفته هوش مصنوعی می‌توانند داده‌های مربوط به بدن انسان را با دقت بالا تحلیل کرده و به پزشکان در تصمیم‌گیری بهتر کمک کنند. علاوه بر این، ربات‌های جراحی مبتنی بر هوش مصنوعی اکنون در بسیاری از بیمارستان‌ها به‌کار گرفته می‌شوند و جراحی‌هایی دقیق‌تر و کم‌خطرتر را ممکن می‌سازند.\n",
        "\n",
        "با تمام این مزایا، هوش مصنوعی چالش‌ها و نگرانی‌هایی را نیز به همراه داشته است. مسائل مربوط به حریم خصوصی، امنیت داده‌ها و اخلاقیات استفاده از این فناوری از جمله موضوعاتی هستند که باید به دقت مورد بررسی قرار گیرند. علاوه بر این، نیاز به بهبود شفافیت الگوریتم‌های هوش مصنوعی و جلوگیری از بروز سوگیری‌ها در تصمیمات این سیستم‌ها از دیگر چالش‌های مهم در این حوزه است.\n",
        "\n",
        "\"\"\"\n",
        "\n",
        "# تقسیم متن به chunks\n",
        "text_splitter = RecursiveCharacterTextSplitter(\n",
        "    chunk_size=500,  # حداکثر تعداد کاراکتر در هر chunk\n",
        "    chunk_overlap=50,  # میزان همپوشانی بین chunk‌ها\n",
        ")\n",
        "chunks = text_splitter.split_text(text)\n",
        "\n",
        "# تبدیل chunks به اسناد (Documents)\n",
        "documents = [Document(page_content=chunk) for chunk in chunks]\n",
        "\n",
        "# ایجاد یک FAISS Vectorstore\n",
        "vectorstore = FAISS.from_documents(documents, hf_embeddings)\n",
        "\n",
        "# ذخیره FAISS index در فایل (اختیاری)\n",
        "faiss_index_path = \"faiss_index\"\n",
        "vectorstore.save_local(faiss_index_path)\n",
        "\n",
        "print(\"FAISS Vectorstore ساخته شد و ذخیره شد.\")\n",
        "\n",
        "# جستجوی معنایی\n",
        "query = \"کاربردهای هوش مصنوعی در پزشکی چیست؟\"\n",
        "results = vectorstore.similarity_search(query, k=3)  #بهترین k نتیجه را نشان می دهد برای متن بالا وقتی  k=2  را انتخاب کردم دوتا از مرتبط ترین نتایج را نشان داد ولی وقتی  k=5 قرار دادم سه نتیجه اول را مرتبط و مابقی را غیر مرتبط نشان داد که\n",
        "#که طبیعی به نظر میرسد چون بر اساس بردار کار می کند و نتایج را ولو غیر مرتبط باشند نشان می دهد مگر اینکه از روش های کنترلی استفاده کنیم\n",
        "\n",
        "for result in results:\n",
        "    print(\"Matched Text:\", result.page_content)\n"
      ]
    },
    {
      "cell_type": "code",
      "execution_count": 11,
      "metadata": {
        "colab": {
          "base_uri": "https://localhost:8080/"
        },
        "id": "NUjhM6OHf2LQ",
        "outputId": "94b72041-26b4-4c7d-fd8c-fbb6da18b4b8"
      },
      "outputs": [
        {
          "name": "stdout",
          "output_type": "stream",
          "text": [
            "نتایج جستجو:\n",
            "* در مهندسی پزشکی، هوش مصنوعی در طراحی دستگاه‌های پیشرفته پزشکی و همچنین تحلیل داده‌های کلینیکی نقش اساسی ایفا می‌کند. این فناوری به توسعه تکنولوژی‌هایی مانند پروتزهای هوشمند، دستگاه‌های تصویربرداری پزشکی (مانند MRI و CT Scan)، و سیستم‌های تشخیص بیماری کمک کرده است. الگوریتم‌های پیشرفته هوش مصنوعی می‌توانند داده‌های مربوط به بدن انسان را با دقت بالا تحلیل کرده و به پزشکان در تصمیم‌گیری بهتر کمک کنند. علاوه بر این، ربات‌های جراحی مبتنی بر هوش مصنوعی اکنون در بسیاری از بیمارستان‌ها به‌کار گرفته\n",
            "* هوش مصنوعی یکی از بزرگ‌ترین دستاوردهای فناوری در دهه‌های اخیر است که تأثیرات قابل‌توجهی در جنبه‌های مختلف زندگی بشر داشته است. این فناوری با استفاده از روش‌هایی مانند یادگیری عمیق و شبکه‌های عصبی مصنوعی قادر است تا وظایف پیچیده‌ای مانند تحلیل داده، تشخیص تصویر، پردازش زبان طبیعی و حتی تصمیم‌گیری را انجام دهد. در صنعت پزشکی، هوش مصنوعی نقشی اساسی در تشخیص بیماری‌ها، پیش‌بینی روند درمان و حتی توسعه داروهای جدید ایفا می‌کند. سیستم‌های مبتنی بر یادگیری ماشینی قادرند با تحلیل داده‌های بیماران،\n",
            "* علاوه بر این‌ها، کاربردهای هوش مصنوعی در حوزه‌هایی مانند کشاورزی، مالی، امنیت سایبری و حتی سرگرمی نیز رشد چشمگیری داشته است. در کشاورزی، فناوری‌های هوشمند می‌توانند به تحلیل شرایط خاک و پیش‌بینی آب و هوا کمک کرده و بهره‌وری کشاورزان را افزایش دهند. در دنیای مالی، الگوریتم‌های مبتنی بر یادگیری ماشین به تحلیل بازارهای مالی، پیش‌بینی نوسانات بازار و شناسایی رفتارهای مشکوک در تراکنش‌های مالی می‌پردازند.\n"
          ]
        }
      ],
      "source": [
        "import requests\n",
        "from langchain.embeddings import OpenAIEmbeddings\n",
        "from langchain.vectorstores import FAISS\n",
        "from langchain.docstore.document import Document\n",
        "from langchain.text_splitter import RecursiveCharacterTextSplitter\n",
        "\n",
        "# داده نمونه\n",
        "text = \"\"\"\n",
        "هوش مصنوعی یکی از بزرگ‌ترین دستاوردهای فناوری در دهه‌های اخیر است که تأثیرات قابل‌توجهی در جنبه‌های مختلف زندگی بشر داشته است. این فناوری با استفاده از روش‌هایی مانند یادگیری عمیق و شبکه‌های عصبی مصنوعی قادر است تا وظایف پیچیده‌ای مانند تحلیل داده، تشخیص تصویر، پردازش زبان طبیعی و حتی تصمیم‌گیری را انجام دهد. در صنعت پزشکی، هوش مصنوعی نقشی اساسی در تشخیص بیماری‌ها، پیش‌بینی روند درمان و حتی توسعه داروهای جدید ایفا می‌کند. سیستم‌های مبتنی بر یادگیری ماشینی قادرند با تحلیل داده‌های بیماران، تشخیص‌های سریع‌تر و دقیق‌تری ارائه دهند که به افزایش کیفیت خدمات درمانی منجر می‌شود.\n",
        "\n",
        "در صنعت خودروسازی، هوش مصنوعی تکنولوژی خودروهای خودران را ممکن ساخته است. این خودروها با استفاده از سنسورها، دوربین‌ها و الگوریتم‌های پیشرفته می‌توانند بدون نیاز به راننده در جاده حرکت کنند. علاوه بر این، استفاده از هوش مصنوعی در خطوط تولید کارخانه‌ها باعث افزایش بهره‌وری و کاهش خطاهای انسانی شده است.\n",
        "\n",
        "در زمینه آموزش، هوش مصنوعی نقش پررنگی در سفارشی‌سازی فرآیند یادگیری برای دانش‌آموزان دارد. سیستم‌های آموزشی مبتنی بر هوش مصنوعی می‌توانند محتوا و روش تدریس را بر اساس نیازها و توانایی‌های هر دانش‌آموز تنظیم کنند. این موضوع باعث افزایش اثربخشی آموزش و انگیزه بیشتر در یادگیری می‌شود.\n",
        "\n",
        "علاوه بر این‌ها، کاربردهای هوش مصنوعی در حوزه‌هایی مانند کشاورزی، مالی، امنیت سایبری و حتی سرگرمی نیز رشد چشمگیری داشته است. در کشاورزی، فناوری‌های هوشمند می‌توانند به تحلیل شرایط خاک و پیش‌بینی آب و هوا کمک کرده و بهره‌وری کشاورزان را افزایش دهند. در دنیای مالی، الگوریتم‌های مبتنی بر یادگیری ماشین به تحلیل بازارهای مالی، پیش‌بینی نوسانات بازار و شناسایی رفتارهای مشکوک در تراکنش‌های مالی می‌پردازند.\n",
        "\n",
        "هوش مصنوعی همچنین وارد دنیای هنر و موسیقی شده است. از طراحی گرافیکی و تولید آثار هنری دیجیتال گرفته تا ساخت موسیقی با استفاده از الگوریتم‌های پیشرفته، این فناوری انقلابی در خلاقیت هنری به وجود آورده است. نرم‌افزارهای مبتنی بر هوش مصنوعی می‌توانند موسیقی‌های سفارشی براساس سبک و سلیقه کاربران تولید کنند و حتی در تحلیل قطعات موسیقی کلاسیک به موزیسین‌ها کمک کنند. در زمینه هنرهای بصری، استفاده از شبکه‌های مولد عمیق (GANs) به هنرمندان امکان می‌دهد تا تصاویر و نقاشی‌های بی‌نظیری خلق کنند.\n",
        "\n",
        "در حوزه مهندسی، هوش مصنوعی توانسته است فرایندهای طراحی، شبیه‌سازی و تولید را متحول کند. از طراحی سازه‌های پیچیده گرفته تا تحلیل داده‌های مربوط به عملکرد ماشین‌آلات صنعتی، این فناوری نقش مؤثری در کاهش هزینه‌ها و افزایش دقت دارد. همچنین، در مهندسی نرم‌افزار، استفاده از مدل‌های یادگیری ماشینی در تشخیص و رفع خطاهای کد، توسعه برنامه‌ها را سریع‌تر و کارآمدتر کرده است.\n",
        "\n",
        "در مهندسی پزشکی، هوش مصنوعی در طراحی دستگاه‌های پیشرفته پزشکی و همچنین تحلیل داده‌های کلینیکی نقش اساسی ایفا می‌کند. این فناوری به توسعه تکنولوژی‌هایی مانند پروتزهای هوشمند، دستگاه‌های تصویربرداری پزشکی (مانند MRI و CT Scan)، و سیستم‌های تشخیص بیماری کمک کرده است. الگوریتم‌های پیشرفته هوش مصنوعی می‌توانند داده‌های مربوط به بدن انسان را با دقت بالا تحلیل کرده و به پزشکان در تصمیم‌گیری بهتر کمک کنند. علاوه بر این، ربات‌های جراحی مبتنی بر هوش مصنوعی اکنون در بسیاری از بیمارستان‌ها به‌کار گرفته می‌شوند و جراحی‌هایی دقیق‌تر و کم‌خطرتر را ممکن می‌سازند.\n",
        "\n",
        "با تمام این مزایا، هوش مصنوعی چالش‌ها و نگرانی‌هایی را نیز به همراه داشته است. مسائل مربوط به حریم خصوصی، امنیت داده‌ها و اخلاقیات استفاده از این فناوری از جمله موضوعاتی هستند که باید به دقت مورد بررسی قرار گیرند. علاوه بر این، نیاز به بهبود شفافیت الگوریتم‌های هوش مصنوعی و جلوگیری از بروز سوگیری‌ها در تصمیمات این سیستم‌ها از دیگر چالش‌های مهم در این حوزه است.\n",
        "\n",
        "\"\"\"\n",
        "\n",
        "query = \"کاربردهای هوش مصنوعی در پزشکی چیست؟\"\n",
        "\n",
        "# تقسیم متن به chunks\n",
        "text_splitter = RecursiveCharacterTextSplitter(chunk_size=500, chunk_overlap=50)\n",
        "chunks = text_splitter.split_text(text)\n",
        "documents = [Document(page_content=chunk) for chunk in chunks]\n",
        "\n",
        "# کلاس سفارشی برای ارسال درخواست به API سفارشی\n",
        "class CustomOpenAIEmbeddings:\n",
        "    def __init__(self, base_url, api_key):\n",
        "        self.base_url = base_url\n",
        "        self.api_key = api_key\n",
        "\n",
        "    def embed_documents(self, texts):\n",
        "        headers = {\n",
        "            \"Authorization\": f\"Bearer {self.api_key}\",\n",
        "            \"Content-Type\": \"application/json\"\n",
        "        }\n",
        "        embeddings = []\n",
        "        for text in texts:\n",
        "            response = requests.post(\n",
        "                f\"{self.base_url}/embeddings\",\n",
        "                headers=headers,\n",
        "                json={\"model\": \"text-embedding-ada-002\", \"input\": text},\n",
        "            )\n",
        "            if response.status_code == 200:\n",
        "                data = response.json()\n",
        "                embeddings.append(data[\"data\"][0][\"embedding\"])\n",
        "            else:\n",
        "                raise ValueError(f\"Error {response.status_code}: {response.text}\")\n",
        "        return embeddings\n",
        "\n",
        "# تنظیم Embeddings با URL و کلید API دلخواه\n",
        "custom_openai_embedding = CustomOpenAIEmbeddings(\n",
        "    base_url=\"https://api.avalai.ir/v1\",\n",
        "    api_key=\"aa-Z5qRX4U5RnK8q5Aig4RVdOOpIZ9ZUY0lX44Bc2MBnNGfGbHM\"\n",
        ")\n",
        "\n",
        "# ایجاد بردارهای Embedding برای اسناد\n",
        "embeddings = custom_openai_embedding.embed_documents([doc.page_content for doc in documents])\n",
        "\n",
        "# ایجاد FAISS VectorStore\n",
        "import faiss\n",
        "dimension = len(embeddings[0])  # تعداد ابعاد embedding\n",
        "index = faiss.IndexFlatL2(dimension)\n",
        "index.add(np.array(embeddings, dtype=\"float32\"))\n",
        "\n",
        "# جستجوی معنایی\n",
        "query_embedding = custom_openai_embedding.embed_documents([query])[0]\n",
        "D, I = index.search(np.array([query_embedding], dtype=\"float32\"), k=3)  # جستجوی 3 نتیجه مرتبط\n",
        "\n",
        "# نمایش نتایج\n",
        "print(\"نتایج جستجو:\")\n",
        "for i in I[0]:\n",
        "    print(f\"* {documents[i].page_content}\")\n"
      ]
    },
    {
      "cell_type": "code",
      "execution_count": null,
      "metadata": {},
      "outputs": [],
      "source": [
        "#به نظر میرسه که مدل لوکال امبدینگ کمی بهتر عمل کرده و لااقل در مورد نتیجه ی سوم میبینیم متنی که امبدینگ به ما داده مرتبط تر از چیزی هست که  اپن ای آی  برگردونده و این نتیجه با وجود یکسان بودن متن و پارامترهای k , chunk_size , chunk_overlap  به دست اومده"
      ]
    },
    {
      "cell_type": "markdown",
      "metadata": {
        "id": "-XlEPAnZvaJy"
      },
      "source": [
        "به نظر میرسه که مدل لوکال امبدینگ کمی بهتر عمل کرده و لااقل در مورد نتیجه ی سوم میبینیم متنی که امبدینگ به ما داده مرتبط تر از چیزی هست که open ai  برگردونده و این نتیجه با وجود یکسان بودن متن و پارامترهای k , chunk_size , chunk_overlap  به دست اومده"
      ]
    }
  ],
  "metadata": {
    "colab": {
      "provenance": []
    },
    "kernelspec": {
      "display_name": "Python 3",
      "name": "python3"
    },
    "language_info": {
      "name": "python"
    }
  },
  "nbformat": 4,
  "nbformat_minor": 0
}
