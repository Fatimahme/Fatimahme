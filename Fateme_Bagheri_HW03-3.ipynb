{
  "cells": [
    {
      "cell_type": "code",
      "execution_count": 6,
      "metadata": {
        "colab": {
          "base_uri": "https://localhost:8080/"
        },
        "id": "X0vhdALoloAz",
        "outputId": "9e82a3d0-3c03-4924-ae4b-af1d6ff31559"
      },
      "outputs": [
        {
          "output_type": "stream",
          "name": "stdout",
          "text": [
            "تعداد کل Documents ایجاد شده: 37\n"
          ]
        }
      ],
      "source": [
        "\n",
        "from langchain.text_splitter import RecursiveCharacterTextSplitter\n",
        "from langchain.docstore.document import Document\n",
        "import wikipedia\n",
        "import os\n",
        "from PyPDF2 import PdfReader\n",
        "\n",
        "# 1. استخراج متن از صفحه ویکی‌پدیا\n",
        "wikipedia.set_lang(\"fa\")  # تنظیم زبان به فارسی\n",
        "wiki_page = wikipedia.page(\"سیمرغ\")  # نام صفحه ویکی‌پدیا\n",
        "wiki_content = wiki_page.content  # استخراج متن\n",
        "\n",
        "# تقسیم متن ویکی‌پدیا به chunks\n",
        "text_splitter = RecursiveCharacterTextSplitter(chunk_size=500, chunk_overlap=50)\n",
        "wiki_chunks = text_splitter.split_text(wiki_content)\n",
        "\n",
        "# تبدیل chunks به Documents با متادیتا\n",
        "wiki_documents = [\n",
        "    Document(page_content=chunk, metadata={\"source\": \"wikipedia\"})\n",
        "    for chunk in wiki_chunks\n",
        "]\n",
        "\n",
        "# 2. استخراج متن از فایل .txt\n",
        "txt_file_path = \"/simorgh.txt\"  # مسیر فایل متنی\n",
        "with open(txt_file_path, \"r\", encoding=\"utf-8\") as file:\n",
        "    txt_content = file.read()\n",
        "\n",
        "# تقسیم متن .txt به chunks\n",
        "txt_chunks = text_splitter.split_text(txt_content)\n",
        "\n",
        "# تبدیل chunks به Documents با متادیتا\n",
        "txt_documents = [\n",
        "    Document(page_content=chunk, metadata={\"source\": \"txt_file\"})\n",
        "    for chunk in txt_chunks\n",
        "]\n",
        "\n",
        "# 3. استخراج متن از فایل PDF\n",
        "pdf_file_path = \"/simorgh.pdf\"  # مسیر فایل PDF\n",
        "pdf_reader = PdfReader(pdf_file_path)\n",
        "pdf_content = \"\"\n",
        "\n",
        "# ترکیب متن تمام صفحات PDF\n",
        "for page in pdf_reader.pages:\n",
        "    pdf_content += page.extract_text()\n",
        "\n",
        "# تقسیم متن PDF به chunks\n",
        "pdf_chunks = text_splitter.split_text(pdf_content)\n",
        "\n",
        "# تبدیل chunks به Documents با متادیتا\n",
        "pdf_documents = [\n",
        "    Document(page_content=chunk, metadata={\"source\": \"pdf_file\"})\n",
        "    for chunk in pdf_chunks\n",
        "]\n",
        "\n",
        "# 4. ترکیب تمام Documents در یک لیست\n",
        "all_documents = wiki_documents + txt_documents + pdf_documents\n",
        "\n",
        "# چاپ تعداد کل اسناد\n",
        "print(f\"تعداد کل Documents ایجاد شده: {len(all_documents)}\")\n"
      ]
    },
    {
      "cell_type": "code",
      "execution_count": 4,
      "metadata": {
        "id": "1CTDbpvAzNV4",
        "colab": {
          "base_uri": "https://localhost:8080/"
        },
        "outputId": "135273db-e01c-4d0a-8c3b-b05933212e42"
      },
      "outputs": [
        {
          "output_type": "stream",
          "name": "stdout",
          "text": [
            "Mounted at /content/drive\n"
          ]
        }
      ],
      "source": [
        "from google.colab import drive\n",
        "drive.mount('/content/drive')"
      ]
    },
    {
      "cell_type": "code",
      "execution_count": 11,
      "metadata": {
        "colab": {
          "base_uri": "https://localhost:8080/"
        },
        "id": "yGCkVLrs0iOp",
        "outputId": "c97b4aa5-e6db-4819-9b6b-889a1de2735a"
      },
      "outputs": [
        {
          "output_type": "stream",
          "name": "stdout",
          "text": [
            "نتیجه 1: سیمرغ درمانگر نماد پزشکی ایران است که با الهام از اساطیر ایران باستان و مستندات شاهنامهٔ فردوسی طراحی شده‌است. این نشان آبان‌ماه ۱۳۹۲ رونمایی شد.\n",
            "\n",
            "تاریخچه\n",
            "سیمرغ درمانگر در آبان‌ماه ۱۳۹۲ با تصویب در شورایعالی سازمان نظام پزشکی، به عنوان نشان فرهنگی جامعهٔ صنفی پزشکی ایران، جایگزین نشان جام و مار شد. [منبع: txt_file]\n",
            "نتیجه 2: نشان گرافیکی سیمرغ\n",
            "نشان سیمرغ درمانگر که تمبر آن طی مراسمی در بهمن‌ماه ۱۳۹۲ رونمایی شد، توسط تورج صابری‌وند گرافیست و مدیر هنری دپارتمان متابرند (زیرمجموعهٔ گروه بین‌المللی توسعه پایدار) طراحی شده‌است.[۱][۳]\n",
            "\n",
            "نشان جام و مار\n",
            "مقالهٔ اصلی: جام هایجیا\n",
            "در نشان جام و مار یونانی که تا به امروز در ایران و جهان به عنوان نماد جامعهٔ پزشکی شناخته شده‌است، مار تصویری از تندرستی را به ذهن متبادر می‌سازد و جام (ظرف) دارو، تنها نگاهی ابزاری به مقولهٔ درمان دارد. [منبع: txt_file]\n"
          ]
        }
      ],
      "source": [
        "\n",
        "from langchain.vectorstores import FAISS\n",
        "from langchain_huggingface.embeddings import HuggingFaceEmbeddings\n",
        "from langchain.docstore.document import Document\n",
        "\n",
        "# بارگذاری مدل Embedding\n",
        "model_name = \"heydariAI/persian-embeddings\"  # مدل مناسب برای زبان فارسی\n",
        "hf_embedding = HuggingFaceEmbeddings(model_name=model_name)\n",
        "\n",
        "# ایجاد FAISS VectorStore\n",
        "vector_store = FAISS.from_documents(all_documents, embedding=hf_embedding)\n",
        "\n",
        "# جستجوی سریع با تنظیم فیلتر\n",
        "query = \"سیمرغ در مسائل پزشکی چه نقشی دارد؟\"\n",
        "results = vector_store.similarity_search(\n",
        "    query,\n",
        "    k=2,  # تعداد نتایج\n",
        "    filter={\"source\": \"txt_file\"}  # فیلتر کردن به اسناد متنی\n",
        ")\n",
        "\n",
        "# نمایش نتایج\n",
        "for i, res in enumerate(results, 1):\n",
        "    print(f\"نتیجه {i}: {res.page_content} [منبع: {res.metadata['source']}]\")\n"
      ]
    }
  ],
  "metadata": {
    "colab": {
      "provenance": [],
      "toc_visible": true
    },
    "kernelspec": {
      "display_name": "Python 3",
      "name": "python3"
    },
    "language_info": {
      "name": "python"
    }
  },
  "nbformat": 4,
  "nbformat_minor": 0
}